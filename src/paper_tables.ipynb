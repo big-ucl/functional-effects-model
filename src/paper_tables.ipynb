{
 "cells": [
  {
   "cell_type": "code",
   "execution_count": 1,
   "id": "66f46620",
   "metadata": {},
   "outputs": [],
   "source": [
    "import pandas as pd\n",
    "import os"
   ]
  },
  {
   "cell_type": "markdown",
   "id": "d29a5fd4",
   "metadata": {},
   "source": [
    "# Benchmarks"
   ]
  },
  {
   "cell_type": "code",
   "execution_count": 7,
   "id": "ad9bd6d1",
   "metadata": {},
   "outputs": [
    {
     "data": {
      "text/html": [
       "<div>\n",
       "<style scoped>\n",
       "    .dataframe tbody tr th:only-of-type {\n",
       "        vertical-align: middle;\n",
       "    }\n",
       "\n",
       "    .dataframe tbody tr th {\n",
       "        vertical-align: top;\n",
       "    }\n",
       "\n",
       "    .dataframe thead th {\n",
       "        text-align: right;\n",
       "    }\n",
       "</style>\n",
       "<table border=\"1\" class=\"dataframe\">\n",
       "  <thead>\n",
       "    <tr style=\"text-align: right;\">\n",
       "      <th></th>\n",
       "      <th></th>\n",
       "      <th>MAE</th>\n",
       "      <th>EMAE</th>\n",
       "      <th>MCEL</th>\n",
       "      <th>Comput. time [s]</th>\n",
       "    </tr>\n",
       "    <tr>\n",
       "      <th>Model</th>\n",
       "      <th>Functional effects</th>\n",
       "      <th></th>\n",
       "      <th></th>\n",
       "      <th></th>\n",
       "      <th></th>\n",
       "    </tr>\n",
       "  </thead>\n",
       "  <tbody>\n",
       "    <tr>\n",
       "      <th rowspan=\"4\" valign=\"top\">RUMBoost</th>\n",
       "      <th>Functional intercept and slopes</th>\n",
       "      <td>1.369</td>\n",
       "      <td>0.146</td>\n",
       "      <td>0.251</td>\n",
       "      <td>168.41</td>\n",
       "    </tr>\n",
       "    <tr>\n",
       "      <th>Functional slopes only</th>\n",
       "      <td>1.37</td>\n",
       "      <td>0.146</td>\n",
       "      <td>0.251</td>\n",
       "      <td>178.04</td>\n",
       "    </tr>\n",
       "    <tr>\n",
       "      <th>Functional intercept only</th>\n",
       "      <td>1.368</td>\n",
       "      <td>0.146</td>\n",
       "      <td>0.251</td>\n",
       "      <td>241.08</td>\n",
       "    </tr>\n",
       "    <tr>\n",
       "      <th>No functional effects</th>\n",
       "      <td>1.413</td>\n",
       "      <td>0.152</td>\n",
       "      <td>0.26</td>\n",
       "      <td>292.95</td>\n",
       "    </tr>\n",
       "    <tr>\n",
       "      <th rowspan=\"4\" valign=\"top\">TasteNet</th>\n",
       "      <th>Functional intercept and slopes</th>\n",
       "      <td>1.37</td>\n",
       "      <td>0.145</td>\n",
       "      <td>0.251</td>\n",
       "      <td>84.09</td>\n",
       "    </tr>\n",
       "    <tr>\n",
       "      <th>Functional slopes only</th>\n",
       "      <td>1.375</td>\n",
       "      <td>0.147</td>\n",
       "      <td>0.252</td>\n",
       "      <td>85.42</td>\n",
       "    </tr>\n",
       "    <tr>\n",
       "      <th>Functional intercept only</th>\n",
       "      <td>1.377</td>\n",
       "      <td>0.148</td>\n",
       "      <td>0.252</td>\n",
       "      <td>45.60</td>\n",
       "    </tr>\n",
       "    <tr>\n",
       "      <th>No functional effects</th>\n",
       "      <td>1.425</td>\n",
       "      <td>0.151</td>\n",
       "      <td>0.262</td>\n",
       "      <td>307.65</td>\n",
       "    </tr>\n",
       "  </tbody>\n",
       "</table>\n",
       "</div>"
      ],
      "text/plain": [
       "                                            MAE   EMAE   MCEL  \\\n",
       "Model    Functional effects                                     \n",
       "RUMBoost Functional intercept and slopes  1.369  0.146  0.251   \n",
       "         Functional slopes only            1.37  0.146  0.251   \n",
       "         Functional intercept only        1.368  0.146  0.251   \n",
       "         No functional effects            1.413  0.152   0.26   \n",
       "TasteNet Functional intercept and slopes   1.37  0.145  0.251   \n",
       "         Functional slopes only           1.375  0.147  0.252   \n",
       "         Functional intercept only        1.377  0.148  0.252   \n",
       "         No functional effects            1.425  0.151  0.262   \n",
       "\n",
       "                                          Comput. time [s]  \n",
       "Model    Functional effects                                 \n",
       "RUMBoost Functional intercept and slopes            168.41  \n",
       "         Functional slopes only                     178.04  \n",
       "         Functional intercept only                  241.08  \n",
       "         No functional effects                      292.95  \n",
       "TasteNet Functional intercept and slopes             84.09  \n",
       "         Functional slopes only                      85.42  \n",
       "         Functional intercept only                   45.60  \n",
       "         No functional effects                      307.65  "
      ]
     },
     "execution_count": 7,
     "metadata": {},
     "output_type": "execute_result"
    }
   ],
   "source": [
    "path_to_results = os.getcwd() + \"/results/\"\n",
    "\n",
    "\n",
    "index_pd = pd.MultiIndex.from_product(\n",
    "    [\n",
    "        [\"RUMBoost\", \"TasteNet\"],\n",
    "        [\"Functional intercept and slopes\", \"Functional slopes only\", \"Functional intercept only\",\"No functional effects\"],\n",
    "    ],\n",
    "    names=[\"Model\", \"Functional effects\"],\n",
    ")\n",
    "\n",
    "benchmark_table = pd.DataFrame({},\n",
    "    columns=[\n",
    "        \"MAE\",\n",
    "        \"EMAE\",\n",
    "        \"MCEL\",\n",
    "        \"Comput. time [s]\",\n",
    "    ],\n",
    "    index=index_pd,\n",
    "    \n",
    ")\n",
    "\n",
    "\n",
    "\n",
    "for model in [\"RUMBoost\", \"TasteNet\"]:\n",
    "    for func_int in [\"True\", \"False\"]:\n",
    "        for func_params in [\"True\", \"False\"]:\n",
    "            results = pd.read_csv(\n",
    "                f\"{path_to_results}{model}/results_dict_fi{func_int}_fp{func_params}.csv\"\n",
    "            )\n",
    "\n",
    "            benchmark_table.loc[\n",
    "                (model, f\"Functional intercept and slopes\" if func_int == \"True\" and func_params == \"True\" else\n",
    "                 f\"Functional intercept only\" if func_int == \"True\" else\n",
    "                 f\"Functional slopes only\" if func_params == \"True\" else\n",
    "                 \"No functional effects\"),\n",
    "                [\"MAE\", \"EMAE\", \"MCEL\", \"Comput. time [s]\"],\n",
    "            ] = results[[\"mae_test\", \"emae_test\", \"loss_test\", \"train_time\"]].values.round(3)\n",
    "            benchmark_table[\"Comput. time [s]\"] = benchmark_table[\"Comput. time [s]\"].astype(float).round(2)\n",
    "\n",
    "benchmark_table\n"
   ]
  },
  {
   "cell_type": "code",
   "execution_count": 8,
   "id": "a0cab678",
   "metadata": {},
   "outputs": [],
   "source": [
    "benchmark_table.to_latex(\"results/benchmark_table.tex\", index=True, float_format=\"%.3f\", escape=False,\n",
    "    column_format=\"lrrrr\",)"
   ]
  },
  {
   "cell_type": "markdown",
   "id": "722d1aa1",
   "metadata": {},
   "source": [
    "# Variables in the model"
   ]
  },
  {
   "cell_type": "code",
   "execution_count": 10,
   "id": "15b1e3b8",
   "metadata": {},
   "outputs": [],
   "source": [
    "from constants import alt_spec_features, PATH_TO_DATA\n",
    "\n",
    "df = pd.read_csv(PATH_TO_DATA)\n",
    "socio_demo_chars = [\n",
    "    col\n",
    "    for col in df.columns\n",
    "    if col not in alt_spec_features\n",
    "    and col not in [\"mergeid\", \"hhid\", \"coupleid\", \"depression_scale\"]\n",
    "]"
   ]
  },
  {
   "cell_type": "code",
   "execution_count": 11,
   "id": "e6e12ecd",
   "metadata": {},
   "outputs": [
    {
     "data": {
      "text/plain": [
       "['female',\n",
       " 'age',\n",
       " 'hhsize',\n",
       " 'nb_children',\n",
       " 'hh_net_income',\n",
       " 'born_in_itw_country_yes',\n",
       " 'education_level_1',\n",
       " 'education_level_2',\n",
       " 'education_level_3',\n",
       " 'education_level_4',\n",
       " 'education_level_5',\n",
       " 'education_level_6',\n",
       " 'education_none',\n",
       " 'education_studying',\n",
       " 'marital_status_married',\n",
       " 'marital_status_reg_partnership',\n",
       " 'marital_status_separated',\n",
       " 'marital_status_single',\n",
       " 'marital_status_widowed',\n",
       " 'partnerinhh_yes',\n",
       " 'mother_alive_yes',\n",
       " 'father_alive_yes',\n",
       " 'help_outside_hh_yes',\n",
       " 'smoking_yes',\n",
       " 'ever_smoked_yes',\n",
       " 'vigorous_activity_more_than_once_a_week',\n",
       " 'vigorous_activity_never',\n",
       " 'vigorous_activity_once_three_times_a_month',\n",
       " 'job_situation_homemaker',\n",
       " 'job_situation_other',\n",
       " 'job_situation_retired',\n",
       " 'job_situation_unable_to_work',\n",
       " 'job_situation_unemployed',\n",
       " 'household_ends_meet_fairly_easily',\n",
       " 'household_ends_meet_with_great_difficulty',\n",
       " 'household_ends_meet_with_some_difficulty',\n",
       " 'has_citizenship_yes',\n",
       " 'country_BE',\n",
       " 'country_BG',\n",
       " 'country_CH',\n",
       " 'country_CY',\n",
       " 'country_CZ',\n",
       " 'country_DE',\n",
       " 'country_DK',\n",
       " 'country_EE',\n",
       " 'country_ES',\n",
       " 'country_FI',\n",
       " 'country_FR',\n",
       " 'country_GR',\n",
       " 'country_HR',\n",
       " 'country_HU',\n",
       " 'country_IE',\n",
       " 'country_IL',\n",
       " 'country_IT',\n",
       " 'country_LT',\n",
       " 'country_LU',\n",
       " 'country_LV',\n",
       " 'country_MT',\n",
       " 'country_NL',\n",
       " 'country_PL',\n",
       " 'country_PT',\n",
       " 'country_RO',\n",
       " 'country_SE',\n",
       " 'country_SI',\n",
       " 'country_SK']"
      ]
     },
     "execution_count": 11,
     "metadata": {},
     "output_type": "execute_result"
    }
   ],
   "source": [
    "socio_demo_chars"
   ]
  },
  {
   "cell_type": "code",
   "execution_count": 12,
   "id": "68bd8e12",
   "metadata": {},
   "outputs": [
    {
     "data": {
      "text/plain": [
       "['chronic_mod',\n",
       " 'nb_doctor_visits',\n",
       " 'maxgrip',\n",
       " 'daily_activities_index',\n",
       " 'instrumental_activities_index',\n",
       " 'mobilityind',\n",
       " 'lgmuscle',\n",
       " 'grossmotor',\n",
       " 'finemotor',\n",
       " 'recall_1',\n",
       " 'recall_2',\n",
       " 'bmi',\n",
       " 'sphus_fair',\n",
       " 'sphus_good',\n",
       " 'sphus_poor',\n",
       " 'sphus_very_good',\n",
       " 'hospitalised_last_year_yes',\n",
       " 'nursing_home_last_year_yes_permanently',\n",
       " 'nursing_home_last_year_yes_temporarily']"
      ]
     },
     "execution_count": 12,
     "metadata": {},
     "output_type": "execute_result"
    }
   ],
   "source": [
    "alt_spec_features"
   ]
  },
  {
   "cell_type": "markdown",
   "id": "3c533803",
   "metadata": {},
   "source": [
    "# Alt-spec feature names"
   ]
  },
  {
   "cell_type": "code",
   "execution_count": null,
   "id": "ab3362e7",
   "metadata": {},
   "outputs": [
    {
     "name": "stdout",
     "output_type": "stream",
     "text": [
      "['BMI', 'Number of chronic conditions', 'Daily activities index', 'Fine motor skills', 'Gross motor skills', 'Hospitalised last year', 'Large muscle skills', 'Max grip strength', 'Mobility index', 'Nursing home last year (permanently)', 'Nursing home last year (temporarily)', 'Recall 1', 'Recall 2', 'Self-perceived health - excellent', 'Self-perceived health - fair', 'Self-perceived health - good', 'Self-perceived health - poor', 'Self-perceived health - very good', 'Self-perceived health - very poor', 'Instrumental activities index', 'Number of doctor visits']\n"
     ]
    }
   ],
   "source": [
    "feature_names = {\n",
    "    \"bmi\": \"BMI\",\n",
    "    \"chronic_mod\": \"Number of chronic conditions\",\n",
    "    \"daily_activities_index\": \"Daily activities index\",\n",
    "    \"finemotor\": \"Fine motor skills\",\n",
    "    \"grossmotor\": \"Gross motor skills\",\n",
    "    \"hospitalised_last_year_yes\": \"Hospitalised last year\",\n",
    "    \"lgmuscle\": \"Large muscle skills\",\n",
    "    \"maxgrip\": \"Max grip strength\",\n",
    "    \"mobilityind\": \"Mobility index\",\n",
    "    \"nursing_home_last_year_yes_permanently\": \"Nursing home last year (permanently)\",\n",
    "    \"nursing_home_last_year_yes_temporarily\": \"Nursing home last year (temporarily)\",\n",
    "    \"recall_1\": \"Recall 1\",\n",
    "    \"recall_2\": \"Recall 2\",\n",
    "    \"sphus_fair\": \"Self-perceived health - fair\",\n",
    "    \"sphus_good\": \"Self-perceived health - good\",\n",
    "    \"sphus_poor\": \"Self-perceived health - poor\",\n",
    "    \"sphus_very_good\": \"Self-perceived health - very good\",\n",
    "    \"sphus_very_poor\": \"Self-perceived health - very poor\",\n",
    "    \"instrumental_activities_index\": \"Instrumental activities index\",\n",
    "    \"nb_doctor_visits\": \"Number of doctor visits\",\n",
    "}\n",
    "\n",
    "print([key for key in feature_names.values()])"
   ]
  },
  {
   "cell_type": "markdown",
   "id": "e9684cc7",
   "metadata": {},
   "source": [
    "# hyperparameters"
   ]
  },
  {
   "cell_type": "markdown",
   "id": "6c1e991c",
   "metadata": {},
   "source": [
    "# thresholds"
   ]
  },
  {
   "cell_type": "markdown",
   "id": "445bf61f",
   "metadata": {},
   "source": []
  }
 ],
 "metadata": {
  "kernelspec": {
   "display_name": "share",
   "language": "python",
   "name": "python3"
  },
  "language_info": {
   "codemirror_mode": {
    "name": "ipython",
    "version": 3
   },
   "file_extension": ".py",
   "mimetype": "text/x-python",
   "name": "python",
   "nbconvert_exporter": "python",
   "pygments_lexer": "ipython3",
   "version": "3.13.2"
  }
 },
 "nbformat": 4,
 "nbformat_minor": 5
}
